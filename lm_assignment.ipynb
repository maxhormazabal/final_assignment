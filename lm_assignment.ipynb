{
 "cells": [
  {
   "attachments": {},
   "cell_type": "markdown",
   "metadata": {},
   "source": [
    "# Language Modeling\n",
    "## Principal Assignment\n",
    "\n",
    "Students:\n",
    "- Victor Xesús Barreiro Domínguez\n",
    "- Maximiliano Manuel Hormazábal Lagos"
   ]
  },
  {
   "cell_type": "code",
   "execution_count": 206,
   "metadata": {},
   "outputs": [],
   "source": [
    "# Read data\n",
    "\n",
    "import pandas as pd\n",
    "import numpy as np\n",
    "from keras.preprocessing.text import Tokenizer\n",
    "from nltk.util import ngrams\n",
    "from collections import Counter\n",
    "\n",
    "\n",
    "df_train = pd.read_fwf(\"./HerMajestySpeechesDataset/train.txt\",delimiter='\\n',header=None,names=[\"text\"])\n",
    "df_dev = pd.read_fwf(\"./HerMajestySpeechesDataset/dev.txt\",delimiter='\\n',header=None,names=[\"text\"])"
   ]
  },
  {
   "cell_type": "code",
   "execution_count": 207,
   "metadata": {},
   "outputs": [],
   "source": []
  },
  {
   "cell_type": "code",
   "execution_count": 208,
   "metadata": {},
   "outputs": [
    {
     "data": {
      "text/plain": [
       "'The birth of a baby brings great happiness - but then the business of growing up begins .'"
      ]
     },
     "execution_count": 208,
     "metadata": {},
     "output_type": "execute_result"
    }
   ],
   "source": [
    "df_train.iloc[3][0]"
   ]
  },
  {
   "cell_type": "code",
   "execution_count": 189,
   "metadata": {},
   "outputs": [
    {
     "data": {
      "text/plain": [
       "['begins.']"
      ]
     },
     "execution_count": 189,
     "metadata": {},
     "output_type": "execute_result"
    }
   ],
   "source": [
    "tokenizer.sequences_to_texts([[1713]])"
   ]
  },
  {
   "cell_type": "code",
   "execution_count": 184,
   "metadata": {},
   "outputs": [
    {
     "data": {
      "text/plain": [
       "[[18, 428, 2, 6, 1401, 776, 53, 641, 54, 247, 1, 373, 2, 642, 216, 1713]]"
      ]
     },
     "execution_count": 184,
     "metadata": {},
     "output_type": "execute_result"
    }
   ],
   "source": [
    "tokenizer.texts_to_sequences([df_train.iloc[3][0]])"
   ]
  },
  {
   "attachments": {},
   "cell_type": "markdown",
   "metadata": {},
   "source": [
    "# Frequencies of n-gram and next-word\n",
    "\n",
    "We have a .txt file that contains one text per line. The following python code train a Keras Tokenizer with the train file and tokenize every single line in order to have numbers instead of words. With the tokenized dataset we created subsets of n+1 words chosing a n-gram size \"n\" to predict the \"next_word\" after this n-gram tupple. Finally the frequency dataset has the count of each n-gram tupple depending of the next_word."
   ]
  },
  {
   "cell_type": "code",
   "execution_count": 220,
   "metadata": {},
   "outputs": [],
   "source": [
    "def trainTokenizer(df, use_dot = False):\n",
    "    if use_dot:\n",
    "        df['text'] = list(map(lambda x: x.replace(\".\", \" .\"),df['text']))\n",
    "        tokenizer = Tokenizer(filters='!\"#$%&()*+,-/:;<=>?@[\\\\]^_`{|}~\\t\\n',lower=False)\n",
    "    else:\n",
    "        tokenizer = Tokenizer()\n",
    "    tokenizer.fit_on_texts(df['text'])\n",
    "\n",
    "    sequences = tokenizer.texts_to_sequences(df['text'])\n",
    "    return (tokenizer,sequences)\n",
    "\n",
    "def countNGrams(ngram_size,sequences):\n",
    "    n_grams = []\n",
    "    for sequence in sequences:\n",
    "        for i in range(ngram_size, len(sequence)):\n",
    "            n_gram = tuple(sequence[i-ngram_size:i])\n",
    "            n_grams.append(n_gram)\n",
    "\n",
    "    n_gram_counts = Counter(n_grams)\n",
    "\n",
    "    data = []\n",
    "    for n_gram, count in n_gram_counts.items():\n",
    "        data.append(((n_gram[:-1]),n_gram[-1],count))\n",
    "\n",
    "    df_freq = pd.DataFrame(data, columns=['context', 'next_word', 'freq'])\n",
    "    df_freq['total_freq'] = df_freq.groupby('context')['freq'].transform('sum')\n",
    "    df_freq['prob'] = df_freq['freq'] / df_freq['total_freq']\n",
    "    return df_freq[['context','next_word','prob']]"
   ]
  },
  {
   "cell_type": "code",
   "execution_count": 221,
   "metadata": {},
   "outputs": [
    {
     "data": {
      "text/html": [
       "<div>\n",
       "<style scoped>\n",
       "    .dataframe tbody tr th:only-of-type {\n",
       "        vertical-align: middle;\n",
       "    }\n",
       "\n",
       "    .dataframe tbody tr th {\n",
       "        vertical-align: top;\n",
       "    }\n",
       "\n",
       "    .dataframe thead th {\n",
       "        text-align: right;\n",
       "    }\n",
       "</style>\n",
       "<table border=\"1\" class=\"dataframe\">\n",
       "  <thead>\n",
       "    <tr style=\"text-align: right;\">\n",
       "      <th></th>\n",
       "      <th>context</th>\n",
       "      <th>next_word</th>\n",
       "      <th>prob</th>\n",
       "    </tr>\n",
       "  </thead>\n",
       "  <tbody>\n",
       "    <tr>\n",
       "      <th>0</th>\n",
       "      <td>(1, 176)</td>\n",
       "      <td>993</td>\n",
       "      <td>0.028571</td>\n",
       "    </tr>\n",
       "    <tr>\n",
       "      <th>1</th>\n",
       "      <td>(176, 993)</td>\n",
       "      <td>4</td>\n",
       "      <td>1.000000</td>\n",
       "    </tr>\n",
       "    <tr>\n",
       "      <th>2</th>\n",
       "      <td>(993, 4)</td>\n",
       "      <td>38</td>\n",
       "      <td>1.000000</td>\n",
       "    </tr>\n",
       "    <tr>\n",
       "      <th>3</th>\n",
       "      <td>(4, 38)</td>\n",
       "      <td>580</td>\n",
       "      <td>0.055556</td>\n",
       "    </tr>\n",
       "    <tr>\n",
       "      <th>4</th>\n",
       "      <td>(38, 580)</td>\n",
       "      <td>40</td>\n",
       "      <td>1.000000</td>\n",
       "    </tr>\n",
       "    <tr>\n",
       "      <th>...</th>\n",
       "      <td>...</td>\n",
       "      <td>...</td>\n",
       "      <td>...</td>\n",
       "    </tr>\n",
       "    <tr>\n",
       "      <th>37207</th>\n",
       "      <td>(685, 49)</td>\n",
       "      <td>5605</td>\n",
       "      <td>0.250000</td>\n",
       "    </tr>\n",
       "    <tr>\n",
       "      <th>37208</th>\n",
       "      <td>(49, 5605)</td>\n",
       "      <td>20</td>\n",
       "      <td>1.000000</td>\n",
       "    </tr>\n",
       "    <tr>\n",
       "      <th>37209</th>\n",
       "      <td>(5605, 20)</td>\n",
       "      <td>1</td>\n",
       "      <td>1.000000</td>\n",
       "    </tr>\n",
       "    <tr>\n",
       "      <th>37210</th>\n",
       "      <td>(20, 1)</td>\n",
       "      <td>526</td>\n",
       "      <td>0.013889</td>\n",
       "    </tr>\n",
       "    <tr>\n",
       "      <th>37211</th>\n",
       "      <td>(1, 526)</td>\n",
       "      <td>2</td>\n",
       "      <td>1.000000</td>\n",
       "    </tr>\n",
       "  </tbody>\n",
       "</table>\n",
       "<p>37212 rows × 3 columns</p>\n",
       "</div>"
      ],
      "text/plain": [
       "          context  next_word      prob\n",
       "0        (1, 176)        993  0.028571\n",
       "1      (176, 993)          4  1.000000\n",
       "2        (993, 4)         38  1.000000\n",
       "3         (4, 38)        580  0.055556\n",
       "4       (38, 580)         40  1.000000\n",
       "...           ...        ...       ...\n",
       "37207   (685, 49)       5605  0.250000\n",
       "37208  (49, 5605)         20  1.000000\n",
       "37209  (5605, 20)          1  1.000000\n",
       "37210     (20, 1)        526  0.013889\n",
       "37211    (1, 526)          2  1.000000\n",
       "\n",
       "[37212 rows x 3 columns]"
      ]
     },
     "execution_count": 221,
     "metadata": {},
     "output_type": "execute_result"
    }
   ],
   "source": [
    "tokenizer,train_sequences = trainTokenizer(df_train)\n",
    "ngram_size = 3\n",
    "df_freq = countNGrams(ngram_size,train_sequences)\n",
    "df_freq"
   ]
  },
  {
   "cell_type": "code",
   "execution_count": 222,
   "metadata": {},
   "outputs": [
    {
     "data": {
      "text/html": [
       "<div>\n",
       "<style scoped>\n",
       "    .dataframe tbody tr th:only-of-type {\n",
       "        vertical-align: middle;\n",
       "    }\n",
       "\n",
       "    .dataframe tbody tr th {\n",
       "        vertical-align: top;\n",
       "    }\n",
       "\n",
       "    .dataframe thead th {\n",
       "        text-align: right;\n",
       "    }\n",
       "</style>\n",
       "<table border=\"1\" class=\"dataframe\">\n",
       "  <thead>\n",
       "    <tr style=\"text-align: right;\">\n",
       "      <th></th>\n",
       "      <th>context</th>\n",
       "      <th>next_word</th>\n",
       "      <th>prob</th>\n",
       "    </tr>\n",
       "  </thead>\n",
       "  <tbody>\n",
       "    <tr>\n",
       "      <th>0</th>\n",
       "      <td>(19, 176)</td>\n",
       "      <td>1023</td>\n",
       "      <td>0.029412</td>\n",
       "    </tr>\n",
       "    <tr>\n",
       "      <th>1</th>\n",
       "      <td>(176, 1023)</td>\n",
       "      <td>5</td>\n",
       "      <td>1.000000</td>\n",
       "    </tr>\n",
       "    <tr>\n",
       "      <th>2</th>\n",
       "      <td>(1023, 5)</td>\n",
       "      <td>40</td>\n",
       "      <td>1.000000</td>\n",
       "    </tr>\n",
       "    <tr>\n",
       "      <th>3</th>\n",
       "      <td>(5, 40)</td>\n",
       "      <td>663</td>\n",
       "      <td>0.055556</td>\n",
       "    </tr>\n",
       "    <tr>\n",
       "      <th>4</th>\n",
       "      <td>(40, 663)</td>\n",
       "      <td>41</td>\n",
       "      <td>1.000000</td>\n",
       "    </tr>\n",
       "    <tr>\n",
       "      <th>...</th>\n",
       "      <td>...</td>\n",
       "      <td>...</td>\n",
       "      <td>...</td>\n",
       "    </tr>\n",
       "    <tr>\n",
       "      <th>39308</th>\n",
       "      <td>(49, 6132)</td>\n",
       "      <td>23</td>\n",
       "      <td>1.000000</td>\n",
       "    </tr>\n",
       "    <tr>\n",
       "      <th>39309</th>\n",
       "      <td>(6132, 23)</td>\n",
       "      <td>1</td>\n",
       "      <td>1.000000</td>\n",
       "    </tr>\n",
       "    <tr>\n",
       "      <th>39310</th>\n",
       "      <td>(23, 1)</td>\n",
       "      <td>541</td>\n",
       "      <td>0.013514</td>\n",
       "    </tr>\n",
       "    <tr>\n",
       "      <th>39311</th>\n",
       "      <td>(1, 541)</td>\n",
       "      <td>2</td>\n",
       "      <td>1.000000</td>\n",
       "    </tr>\n",
       "    <tr>\n",
       "      <th>39312</th>\n",
       "      <td>(323, 4)</td>\n",
       "      <td>435</td>\n",
       "      <td>0.166667</td>\n",
       "    </tr>\n",
       "  </tbody>\n",
       "</table>\n",
       "<p>39313 rows × 3 columns</p>\n",
       "</div>"
      ],
      "text/plain": [
       "           context  next_word      prob\n",
       "0        (19, 176)       1023  0.029412\n",
       "1      (176, 1023)          5  1.000000\n",
       "2        (1023, 5)         40  1.000000\n",
       "3          (5, 40)        663  0.055556\n",
       "4        (40, 663)         41  1.000000\n",
       "...            ...        ...       ...\n",
       "39308   (49, 6132)         23  1.000000\n",
       "39309   (6132, 23)          1  1.000000\n",
       "39310      (23, 1)        541  0.013514\n",
       "39311     (1, 541)          2  1.000000\n",
       "39312     (323, 4)        435  0.166667\n",
       "\n",
       "[39313 rows x 3 columns]"
      ]
     },
     "execution_count": 222,
     "metadata": {},
     "output_type": "execute_result"
    }
   ],
   "source": [
    "tokenizer,train_sequences = trainTokenizer(df_train,True)\n",
    "ngram_size = 3\n",
    "df_freq = countNGrams(ngram_size,train_sequences)\n",
    "df_freq"
   ]
  },
  {
   "cell_type": "code",
   "execution_count": 217,
   "metadata": {},
   "outputs": [
    {
     "data": {
      "text/html": [
       "<div>\n",
       "<style scoped>\n",
       "    .dataframe tbody tr th:only-of-type {\n",
       "        vertical-align: middle;\n",
       "    }\n",
       "\n",
       "    .dataframe tbody tr th {\n",
       "        vertical-align: top;\n",
       "    }\n",
       "\n",
       "    .dataframe thead th {\n",
       "        text-align: right;\n",
       "    }\n",
       "</style>\n",
       "<table border=\"1\" class=\"dataframe\">\n",
       "  <thead>\n",
       "    <tr style=\"text-align: right;\">\n",
       "      <th></th>\n",
       "      <th>context</th>\n",
       "      <th>next_word</th>\n",
       "      <th>prob</th>\n",
       "    </tr>\n",
       "  </thead>\n",
       "  <tbody>\n",
       "    <tr>\n",
       "      <th>2768</th>\n",
       "      <td>(30, 1)</td>\n",
       "      <td>341</td>\n",
       "      <td>0.128571</td>\n",
       "    </tr>\n",
       "    <tr>\n",
       "      <th>12269</th>\n",
       "      <td>(5, 1)</td>\n",
       "      <td>341</td>\n",
       "      <td>0.004505</td>\n",
       "    </tr>\n",
       "    <tr>\n",
       "      <th>14530</th>\n",
       "      <td>(123, 30)</td>\n",
       "      <td>341</td>\n",
       "      <td>1.000000</td>\n",
       "    </tr>\n",
       "    <tr>\n",
       "      <th>22959</th>\n",
       "      <td>(6, 1)</td>\n",
       "      <td>341</td>\n",
       "      <td>0.011194</td>\n",
       "    </tr>\n",
       "    <tr>\n",
       "      <th>27738</th>\n",
       "      <td>(6, 13)</td>\n",
       "      <td>341</td>\n",
       "      <td>0.023256</td>\n",
       "    </tr>\n",
       "    <tr>\n",
       "      <th>31139</th>\n",
       "      <td>(1, 108)</td>\n",
       "      <td>341</td>\n",
       "      <td>0.153846</td>\n",
       "    </tr>\n",
       "    <tr>\n",
       "      <th>37445</th>\n",
       "      <td>(12, 215)</td>\n",
       "      <td>341</td>\n",
       "      <td>0.055556</td>\n",
       "    </tr>\n",
       "    <tr>\n",
       "      <th>37701</th>\n",
       "      <td>(1383, 129)</td>\n",
       "      <td>341</td>\n",
       "      <td>1.000000</td>\n",
       "    </tr>\n",
       "  </tbody>\n",
       "</table>\n",
       "</div>"
      ],
      "text/plain": [
       "           context  next_word      prob\n",
       "2768       (30, 1)        341  0.128571\n",
       "12269       (5, 1)        341  0.004505\n",
       "14530    (123, 30)        341  1.000000\n",
       "22959       (6, 1)        341  0.011194\n",
       "27738      (6, 13)        341  0.023256\n",
       "31139     (1, 108)        341  0.153846\n",
       "37445    (12, 215)        341  0.055556\n",
       "37701  (1383, 129)        341  1.000000"
      ]
     },
     "execution_count": 217,
     "metadata": {},
     "output_type": "execute_result"
    }
   ],
   "source": [
    "df_freq.loc[df_freq['next_word']==341]"
   ]
  },
  {
   "cell_type": "code",
   "execution_count": 166,
   "metadata": {},
   "outputs": [
    {
     "data": {
      "text/plain": [
       "[[341]]"
      ]
     },
     "execution_count": 166,
     "metadata": {},
     "output_type": "execute_result"
    }
   ],
   "source": [
    "tokenizer.texts_to_sequences(['.'])"
   ]
  },
  {
   "cell_type": "code",
   "execution_count": 170,
   "metadata": {},
   "outputs": [
    {
     "data": {
      "text/plain": [
       "341"
      ]
     },
     "execution_count": 170,
     "metadata": {},
     "output_type": "execute_result"
    }
   ],
   "source": [
    "tokenizer.word_index['.']"
   ]
  }
 ],
 "metadata": {
  "kernelspec": {
   "display_name": "dlenv",
   "language": "python",
   "name": "python3"
  },
  "language_info": {
   "codemirror_mode": {
    "name": "ipython",
    "version": 3
   },
   "file_extension": ".py",
   "mimetype": "text/x-python",
   "name": "python",
   "nbconvert_exporter": "python",
   "pygments_lexer": "ipython3",
   "version": "3.8.16"
  },
  "orig_nbformat": 4
 },
 "nbformat": 4,
 "nbformat_minor": 2
}
